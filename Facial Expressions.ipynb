{
 "cells": [
  {
   "cell_type": "code",
   "execution_count": 20,
   "metadata": {},
   "outputs": [],
   "source": [
    "%matplotlib inline\n",
    "import matplotlib.pyplot as plt\n",
    "import numpy as np\n",
    "import pandas as pd\n",
    "import seaborn as sns\n",
    "\n",
    "# Data prep, convert pixels to array from string\n",
    "data = pd.read_csv(\"fer2013/fer2013.csv\")\n",
    "image_h, image_w = 48, 48\n",
    "\n",
    "train = data.loc[data[\"Usage\"] == \"Training\"]\n",
    "validate = data.loc[data[\"Usage\"] == \"PublicTest\"]\n",
    "test = data.loc[data[\"Usage\"] == \"PrivateTest\"]\n",
    "\n",
    "train_X = [np.fromstring(image, dtype=int, sep=\" \").reshape((\n",
    "        image_h, image_w)) for image in train[\"pixels\"]]\n",
    "train_y = train[\"emotion\"]\n",
    "validate_X = [np.fromstring(image, dtype=int, sep=\" \").reshape((\n",
    "        image_h, image_w)) for image in validate[\"pixels\"]]\n",
    "validate_y = validate[\"emotion\"]\n",
    "test_X = [np.fromstring(image, dtype=int, sep=\" \").reshape((\n",
    "        image_h, image_w)) for image in test[\"pixels\"]]\n",
    "test_y = test[\"emotion\"]"
   ]
  },
  {
   "cell_type": "code",
   "execution_count": 21,
   "metadata": {},
   "outputs": [],
   "source": [
    "# map of encoded emotions\n",
    "emotions = {\n",
    "    \"0\": \"Angry\",\n",
    "    \"1\": \"Disgust\",\n",
    "    \"2\": \"Fear\",\n",
    "    \"3\": \"Happy\",\n",
    "    \"4\": \"Sad\",\n",
    "    \"5\": \"Surprise\",\n",
    "    \"6\": \"Neutral\"\n",
    "}"
   ]
  },
  {
   "cell_type": "code",
   "execution_count": 22,
   "metadata": {},
   "outputs": [
    {
     "name": "stdout",
     "output_type": "stream",
     "text": [
      "Train Emotions\n",
      "Number of records: 35887\n"
     ]
    },
    {
     "data": {
      "text/plain": [
       "<matplotlib.axes._subplots.AxesSubplot at 0x7fdc9df35278>"
      ]
     },
     "execution_count": 22,
     "metadata": {},
     "output_type": "execute_result"
    },
    {
     "data": {
      "image/png": "[encoded data removed]",
      "text/plain": [
       "<matplotlib.figure.Figure at 0x7fdc9df35940>"
      ]
     },
     "metadata": {},
     "output_type": "display_data"
    }
   ],
   "source": [
    "sns.set(style=\"darkgrid\")\n",
    "print(\"Train Emotions\")\n",
    "print(f\"Number of records: {len(data)}\")\n",
    "#sns.countplot(x=\"emotion\", data=data)\n",
    "emotion_data = [emotions[str(x)] for x in data[\"emotion\"]]\n",
    "sns.countplot(x=emotion_data)"
   ]
  },
  {
   "cell_type": "code",
   "execution_count": 23,
   "metadata": {},
   "outputs": [
    {
     "name": "stdout",
     "output_type": "stream",
     "text": [
      "Train Emotions\n",
      "Number of records: 28709\n"
     ]
    },
    {
     "data": {
      "text/plain": [
       "<matplotlib.axes._subplots.AxesSubplot at 0x7fdc9e196f98>"
      ]
     },
     "execution_count": 23,
     "metadata": {},
     "output_type": "execute_result"
    },
    {
     "data": {
      "image/png": "[encoded data removed]",
      "text/plain": [
       "<matplotlib.figure.Figure at 0x7fdc9e16a0f0>"
      ]
     },
     "metadata": {},
     "output_type": "display_data"
    }
   ],
   "source": [
    "sns.set(style=\"darkgrid\")\n",
    "print(\"Train Emotions\")\n",
    "print(f\"Number of records: {len(train_y)}\")\n",
    "sns.countplot(x=\"emotion\", data=train)"
   ]
  },
  {
   "cell_type": "code",
   "execution_count": 24,
   "metadata": {},
   "outputs": [
    {
     "name": "stdout",
     "output_type": "stream",
     "text": [
      "Validate Emotions\n",
      "Number of records: 3589\n"
     ]
    },
    {
     "data": {
      "text/plain": [
       "<matplotlib.axes._subplots.AxesSubplot at 0x7fdc9d54b7f0>"
      ]
     },
     "execution_count": 24,
     "metadata": {},
     "output_type": "execute_result"
    },
    {
     "data": {
      "image/png": "[encoded data removed]",
      "text/plain": [
       "<matplotlib.figure.Figure at 0x7fdc9d538e80>"
      ]
     },
     "metadata": {},
     "output_type": "display_data"
    }
   ],
   "source": [
    "print(\"Validate Emotions\")\n",
    "print(f\"Number of records: {len(validate_y)}\")\n",
    "sns.countplot(x=\"emotion\", data=validate)"
   ]
  },
  {
   "cell_type": "code",
   "execution_count": 25,
   "metadata": {},
   "outputs": [
    {
     "name": "stdout",
     "output_type": "stream",
     "text": [
      "Test Emotions\n",
      "Number of records: 3589\n"
     ]
    },
    {
     "data": {
      "text/plain": [
       "<matplotlib.axes._subplots.AxesSubplot at 0x7fdc9d512240>"
      ]
     },
     "execution_count": 25,
     "metadata": {},
     "output_type": "execute_result"
    },
    {
     "data": {
      "image/png": "[encoded data removed]",
      "text/plain": [
       "<matplotlib.figure.Figure at 0x7fdc9d4ea2b0>"
      ]
     },
     "metadata": {},
     "output_type": "display_data"
    }
   ],
   "source": [
    "print(\"Test Emotions\")\n",
    "print(f\"Number of records: {len(test_y)}\")\n",
    "sns.countplot(x=\"emotion\", data=test)"
   ]
  },
  {
   "cell_type": "code",
   "execution_count": 28,
   "metadata": {},
   "outputs": [
    {
     "name": "stdout",
     "output_type": "stream",
     "text": [
      "(48, 48)\n",
      "Surprise\n"
     ]
    },
    {
     "data": {
      "image/png": "[encoded data removed]",
      "text/plain": [
       "<matplotlib.figure.Figure at 0x7fdc9d471ba8>"
      ]
     },
     "metadata": {},
     "output_type": "display_data"
    }
   ],
   "source": [
    "plt.imshow(train_X[1400])\n",
    "print(train_X[1400].shape)\n",
    "print(emotions[str(train_y[1400])])"
   ]
  },
  {
   "cell_type": "code",
   "execution_count": null,
   "metadata": {},
   "outputs": [],
   "source": []
  },
  {
   "cell_type": "code",
   "execution_count": 9,
   "metadata": {},
   "outputs": [],
   "source": [
    "# Prepare the images for the inception v3 model\n",
    "import cv2\n",
    "from keras.applications.inception_v3 import preprocess_input\n",
    "\n",
    "#p_train_X = []\n",
    "p_validate_X = []\n",
    "p_test_X = []\n",
    "\n",
    "#for i, im in enumerate(train_X):\n",
    "#    im = im.astype(float)\n",
    "#    im = cv2.resize(im, (299,299))\n",
    "#    p_im = np.stack((im,)*3, axis=-1)\n",
    "#    p_im = preprocess_input(p_im)\n",
    "#    p_train_X.append(p_im)\n",
    "\n",
    "for i, im in enumerate(validate_X):\n",
    "    im = im.astype(float)\n",
    "    im = cv2.resize(im, (299,299))\n",
    "    p_im = np.stack((im,)*3, axis=-1)\n",
    "    p_im = preprocess_input(p_im)\n",
    "    p_validate_X.append(p_im)\n",
    "\n",
    "for i, im in enumerate(test_X):\n",
    "    im = im.astype(float)\n",
    "    im = cv2.resize(im, (299,299))\n",
    "    p_im = np.stack((im,)*3, axis=-1)\n",
    "    p_im = preprocess_input(p_im)\n",
    "    p_test_X.append(p_im)"
   ]
  },
  {
   "cell_type": "code",
   "execution_count": 10,
   "metadata": {},
   "outputs": [],
   "source": [
    "#print(len(validate_X))\n",
    "#p_train_X = np.asarray(p_train_X, dtype=\"f2\")\n",
    "#train_y = train_y[0:10000]\n",
    "p_validate_X = np.asarray(p_validate_X, dtype=\"f2\")\n",
    "p_test_X = np.asarray(p_test_X, dtype=\"f2\")"
   ]
  },
  {
   "cell_type": "code",
   "execution_count": 11,
   "metadata": {},
   "outputs": [],
   "source": [
    "from keras.utils import np_utils\n",
    "\n",
    "#train_y = np_utils.to_categorical(train_y, 7)\n",
    "validate_y = np_utils.to_categorical(validate_y, 7)\n",
    "test_y = np_utils.to_categorical(test_y, 7)"
   ]
  },
  {
   "cell_type": "code",
   "execution_count": 69,
   "metadata": {},
   "outputs": [
    {
     "name": "stderr",
     "output_type": "stream",
     "text": [
      "/home/ubuntu/anaconda3/lib/python3.6/site-packages/ipykernel_launcher.py:20: UserWarning: Update your `Model` call to the Keras 2 API: `Model(inputs=Tensor(\"in..., outputs=Tensor(\"de...)`\n"
     ]
    },
    {
     "name": "stdout",
     "output_type": "stream",
     "text": [
      "Train on 28709 samples, validate on 3589 samples\n",
      "Epoch 1/20\n",
      "28709/28709 [==============================] - 1270s 44ms/step - loss: 1.8582 - val_loss: 1.6154\n",
      "Epoch 2/20\n",
      "28709/28709 [==============================] - 1267s 44ms/step - loss: 1.5700 - val_loss: 1.5908\n",
      "Epoch 3/20\n",
      "28709/28709 [==============================] - 1267s 44ms/step - loss: 1.5192 - val_loss: 1.5425\n",
      "Epoch 4/20\n",
      "28709/28709 [==============================] - 1267s 44ms/step - loss: 1.4932 - val_loss: 1.5516\n",
      "Epoch 5/20\n",
      "28709/28709 [==============================] - 1267s 44ms/step - loss: 1.4694 - val_loss: 1.6261\n",
      "Epoch 6/20\n",
      "28709/28709 [==============================] - 1267s 44ms/step - loss: 1.4516 - val_loss: 1.6794\n",
      "Epoch 7/20\n",
      "28709/28709 [==============================] - 1267s 44ms/step - loss: 1.4314 - val_loss: 1.5307\n",
      "Epoch 8/20\n",
      "28709/28709 [==============================] - 1267s 44ms/step - loss: 1.4155 - val_loss: 1.6180\n",
      "Epoch 9/20\n",
      "28709/28709 [==============================] - 1267s 44ms/step - loss: 1.3999 - val_loss: 1.7336\n",
      "Epoch 10/20\n",
      "28709/28709 [==============================] - 1267s 44ms/step - loss: 1.3856 - val_loss: 1.6399\n",
      "Epoch 11/20\n",
      "28709/28709 [==============================] - 1267s 44ms/step - loss: 1.3770 - val_loss: 1.5852\n",
      "Epoch 12/20\n",
      "28709/28709 [==============================] - 1267s 44ms/step - loss: 1.3648 - val_loss: 1.5058\n",
      "Epoch 13/20\n",
      "28709/28709 [==============================] - 1267s 44ms/step - loss: 1.3489 - val_loss: 1.5281\n",
      "Epoch 14/20\n",
      "28709/28709 [==============================] - 1266s 44ms/step - loss: 1.3441 - val_loss: 1.6600\n",
      "Epoch 15/20\n",
      "28709/28709 [==============================] - 1266s 44ms/step - loss: 1.3315 - val_loss: 1.5856\n",
      "Epoch 16/20\n",
      "28709/28709 [==============================] - 1267s 44ms/step - loss: 1.3209 - val_loss: 1.5646\n",
      "Epoch 17/20\n",
      "28709/28709 [==============================] - 1266s 44ms/step - loss: 1.3116 - val_loss: 1.5871\n",
      "Epoch 18/20\n",
      "28709/28709 [==============================] - 1267s 44ms/step - loss: 1.3092 - val_loss: 1.6558\n",
      "Epoch 19/20\n",
      "28709/28709 [==============================] - 1267s 44ms/step - loss: 1.2899 - val_loss: 1.5697\n",
      "Epoch 20/20\n",
      "28709/28709 [==============================] - 1267s 44ms/step - loss: 1.2948 - val_loss: 1.6476\n",
      "0 input_6\n",
      "1 conv2d_471\n",
      "2 batch_normalization_471\n",
      "3 activation_471\n",
      "4 conv2d_472\n",
      "5 batch_normalization_472\n",
      "6 activation_472\n",
      "7 conv2d_473\n",
      "8 batch_normalization_473\n",
      "9 activation_473\n",
      "10 max_pooling2d_21\n",
      "11 conv2d_474\n",
      "12 batch_normalization_474\n",
      "13 activation_474\n",
      "14 conv2d_475\n",
      "15 batch_normalization_475\n",
      "16 activation_475\n",
      "17 max_pooling2d_22\n",
      "18 conv2d_479\n",
      "19 batch_normalization_479\n",
      "20 activation_479\n",
      "21 conv2d_477\n",
      "22 conv2d_480\n",
      "23 batch_normalization_477\n",
      "24 batch_normalization_480\n",
      "25 activation_477\n",
      "26 activation_480\n",
      "27 average_pooling2d_46\n",
      "28 conv2d_476\n",
      "29 conv2d_478\n",
      "30 conv2d_481\n",
      "31 conv2d_482\n",
      "32 batch_normalization_476\n",
      "33 batch_normalization_478\n",
      "34 batch_normalization_481\n",
      "35 batch_normalization_482\n",
      "36 activation_476\n",
      "37 activation_478\n",
      "38 activation_481\n",
      "39 activation_482\n",
      "40 mixed0\n",
      "41 conv2d_486\n",
      "42 batch_normalization_486\n",
      "43 activation_486\n",
      "44 conv2d_484\n",
      "45 conv2d_487\n",
      "46 batch_normalization_484\n",
      "47 batch_normalization_487\n",
      "48 activation_484\n",
      "49 activation_487\n",
      "50 average_pooling2d_47\n",
      "51 conv2d_483\n",
      "52 conv2d_485\n",
      "53 conv2d_488\n",
      "54 conv2d_489\n",
      "55 batch_normalization_483\n",
      "56 batch_normalization_485\n",
      "57 batch_normalization_488\n",
      "58 batch_normalization_489\n",
      "59 activation_483\n",
      "60 activation_485\n",
      "61 activation_488\n",
      "62 activation_489\n",
      "63 mixed1\n",
      "64 conv2d_493\n",
      "65 batch_normalization_493\n",
      "66 activation_493\n",
      "67 conv2d_491\n",
      "68 conv2d_494\n",
      "69 batch_normalization_491\n",
      "70 batch_normalization_494\n",
      "71 activation_491\n",
      "72 activation_494\n",
      "73 average_pooling2d_48\n",
      "74 conv2d_490\n",
      "75 conv2d_492\n",
      "76 conv2d_495\n",
      "77 conv2d_496\n",
      "78 batch_normalization_490\n",
      "79 batch_normalization_492\n",
      "80 batch_normalization_495\n",
      "81 batch_normalization_496\n",
      "82 activation_490\n",
      "83 activation_492\n",
      "84 activation_495\n",
      "85 activation_496\n",
      "86 mixed2\n",
      "87 conv2d_498\n",
      "88 batch_normalization_498\n",
      "89 activation_498\n",
      "90 conv2d_499\n",
      "91 batch_normalization_499\n",
      "92 activation_499\n",
      "93 conv2d_497\n",
      "94 conv2d_500\n",
      "95 batch_normalization_497\n",
      "96 batch_normalization_500\n",
      "97 activation_497\n",
      "98 activation_500\n",
      "99 max_pooling2d_23\n",
      "100 mixed3\n",
      "101 conv2d_505\n",
      "102 batch_normalization_505\n",
      "103 activation_505\n",
      "104 conv2d_506\n",
      "105 batch_normalization_506\n",
      "106 activation_506\n",
      "107 conv2d_502\n",
      "108 conv2d_507\n",
      "109 batch_normalization_502\n",
      "110 batch_normalization_507\n",
      "111 activation_502\n",
      "112 activation_507\n",
      "113 conv2d_503\n",
      "114 conv2d_508\n",
      "115 batch_normalization_503\n",
      "116 batch_normalization_508\n",
      "117 activation_503\n",
      "118 activation_508\n",
      "119 average_pooling2d_49\n",
      "120 conv2d_501\n",
      "121 conv2d_504\n",
      "122 conv2d_509\n",
      "123 conv2d_510\n",
      "124 batch_normalization_501\n",
      "125 batch_normalization_504\n",
      "126 batch_normalization_509\n",
      "127 batch_normalization_510\n",
      "128 activation_501\n",
      "129 activation_504\n",
      "130 activation_509\n",
      "131 activation_510\n",
      "132 mixed4\n",
      "133 conv2d_515\n",
      "134 batch_normalization_515\n",
      "135 activation_515\n",
      "136 conv2d_516\n",
      "137 batch_normalization_516\n",
      "138 activation_516\n",
      "139 conv2d_512\n",
      "140 conv2d_517\n",
      "141 batch_normalization_512\n",
      "142 batch_normalization_517\n",
      "143 activation_512\n",
      "144 activation_517\n",
      "145 conv2d_513\n",
      "146 conv2d_518\n",
      "147 batch_normalization_513\n",
      "148 batch_normalization_518\n",
      "149 activation_513\n",
      "150 activation_518\n",
      "151 average_pooling2d_50\n",
      "152 conv2d_511\n",
      "153 conv2d_514\n",
      "154 conv2d_519\n",
      "155 conv2d_520\n",
      "156 batch_normalization_511\n",
      "157 batch_normalization_514\n",
      "158 batch_normalization_519\n",
      "159 batch_normalization_520\n",
      "160 activation_511\n",
      "161 activation_514\n",
      "162 activation_519\n",
      "163 activation_520\n",
      "164 mixed5\n",
      "165 conv2d_525\n",
      "166 batch_normalization_525\n",
      "167 activation_525\n",
      "168 conv2d_526\n",
      "169 batch_normalization_526\n",
      "170 activation_526\n",
      "171 conv2d_522\n",
      "172 conv2d_527\n",
      "173 batch_normalization_522\n",
      "174 batch_normalization_527\n",
      "175 activation_522\n",
      "176 activation_527\n",
      "177 conv2d_523\n",
      "178 conv2d_528\n",
      "179 batch_normalization_523\n",
      "180 batch_normalization_528\n",
      "181 activation_523\n",
      "182 activation_528\n",
      "183 average_pooling2d_51\n",
      "184 conv2d_521\n",
      "185 conv2d_524\n",
      "186 conv2d_529\n",
      "187 conv2d_530\n",
      "188 batch_normalization_521\n",
      "189 batch_normalization_524\n",
      "190 batch_normalization_529\n",
      "191 batch_normalization_530\n",
      "192 activation_521\n",
      "193 activation_524\n",
      "194 activation_529\n",
      "195 activation_530\n",
      "196 mixed6\n",
      "197 conv2d_535\n",
      "198 batch_normalization_535\n",
      "199 activation_535\n",
      "200 conv2d_536\n",
      "201 batch_normalization_536\n",
      "202 activation_536\n",
      "203 conv2d_532\n",
      "204 conv2d_537\n",
      "205 batch_normalization_532\n",
      "206 batch_normalization_537\n",
      "207 activation_532\n",
      "208 activation_537\n",
      "209 conv2d_533\n",
      "210 conv2d_538\n",
      "211 batch_normalization_533\n",
      "212 batch_normalization_538\n",
      "213 activation_533\n",
      "214 activation_538\n",
      "215 average_pooling2d_52\n",
      "216 conv2d_531\n",
      "217 conv2d_534\n",
      "218 conv2d_539\n",
      "219 conv2d_540\n",
      "220 batch_normalization_531\n",
      "221 batch_normalization_534\n",
      "222 batch_normalization_539\n",
      "223 batch_normalization_540\n",
      "224 activation_531\n",
      "225 activation_534\n",
      "226 activation_539\n",
      "227 activation_540\n",
      "228 mixed7\n",
      "229 conv2d_543\n",
      "230 batch_normalization_543\n",
      "231 activation_543\n",
      "232 conv2d_544\n",
      "233 batch_normalization_544\n",
      "234 activation_544\n",
      "235 conv2d_541\n",
      "236 conv2d_545\n",
      "237 batch_normalization_541\n",
      "238 batch_normalization_545\n",
      "239 activation_541\n",
      "240 activation_545\n",
      "241 conv2d_542\n",
      "242 conv2d_546\n",
      "243 batch_normalization_542\n",
      "244 batch_normalization_546\n",
      "245 activation_542\n",
      "246 activation_546\n",
      "247 max_pooling2d_24\n",
      "248 mixed8\n",
      "249 conv2d_551\n",
      "250 batch_normalization_551\n",
      "251 activation_551\n",
      "252 conv2d_548\n",
      "253 conv2d_552\n",
      "254 batch_normalization_548\n",
      "255 batch_normalization_552\n",
      "256 activation_548\n",
      "257 activation_552\n",
      "258 conv2d_549\n",
      "259 conv2d_550\n",
      "260 conv2d_553\n",
      "261 conv2d_554\n",
      "262 average_pooling2d_53\n",
      "263 conv2d_547\n",
      "264 batch_normalization_549\n",
      "265 batch_normalization_550\n",
      "266 batch_normalization_553\n",
      "267 batch_normalization_554\n",
      "268 conv2d_555\n",
      "269 batch_normalization_547\n",
      "270 activation_549\n",
      "271 activation_550\n",
      "272 activation_553\n",
      "273 activation_554\n",
      "274 batch_normalization_555\n",
      "275 activation_547\n",
      "276 mixed9_0\n",
      "277 concatenate_11\n",
      "278 activation_555\n",
      "279 mixed9\n",
      "280 conv2d_560\n",
      "281 batch_normalization_560\n",
      "282 activation_560\n",
      "283 conv2d_557\n",
      "284 conv2d_561\n",
      "285 batch_normalization_557\n",
      "286 batch_normalization_561\n",
      "287 activation_557\n",
      "288 activation_561\n",
      "289 conv2d_558\n",
      "290 conv2d_559\n",
      "291 conv2d_562\n",
      "292 conv2d_563\n",
      "293 average_pooling2d_54\n",
      "294 conv2d_556\n",
      "295 batch_normalization_558\n",
      "296 batch_normalization_559\n",
      "297 batch_normalization_562\n",
      "298 batch_normalization_563\n",
      "299 conv2d_564\n",
      "300 batch_normalization_556\n",
      "301 activation_558\n",
      "302 activation_559\n",
      "303 activation_562\n",
      "304 activation_563\n",
      "305 batch_normalization_564\n",
      "306 activation_556\n",
      "307 mixed9_1\n",
      "308 concatenate_12\n",
      "309 activation_564\n",
      "310 mixed10\n"
     ]
    },
    {
     "name": "stdout",
     "output_type": "stream",
     "text": [
      "Train on 28709 samples, validate on 3589 samples\n",
      "Epoch 1/5\n",
      "28709/28709 [==============================] - 2058s 72ms/step - loss: 1.1825 - val_loss: 1.1945\n",
      "Epoch 2/5\n",
      "28709/28709 [==============================] - 2053s 72ms/step - loss: 0.7676 - val_loss: 1.2312\n",
      "Epoch 3/5\n",
      "28709/28709 [==============================] - 2051s 71ms/step - loss: 0.4865 - val_loss: 1.3767\n",
      "Epoch 4/5\n",
      "28709/28709 [==============================] - 2052s 71ms/step - loss: 0.2900 - val_loss: 1.5455\n",
      "Epoch 5/5\n",
      "28709/28709 [==============================] - 2053s 72ms/step - loss: 0.1883 - val_loss: 1.6861\n"
     ]
    },
    {
     "data": {
      "text/plain": [
       "<keras.callbacks.History at 0x7f8bbcc6f320>"
      ]
     },
     "execution_count": 69,
     "metadata": {},
     "output_type": "execute_result"
    }
   ],
   "source": [
    "from keras.applications.inception_v3 import InceptionV3\n",
    "from keras.preprocessing import image\n",
    "from keras.models import Model\n",
    "from keras.layers import Dense, GlobalAveragePooling2D\n",
    "from keras import backend as K\n",
    "from keras.layers import Input\n",
    "\n",
    "# create the base pre-trained model\n",
    "base_model = InceptionV3(weights='imagenet', include_top=False)\n",
    "\n",
    "# add a global spatial average pooling layer\n",
    "x = base_model.output\n",
    "x = GlobalAveragePooling2D()(x)\n",
    "# let's add a fully-connected layer\n",
    "x = Dense(1024, activation='relu')(x)\n",
    "# and a logistic layer -- there are 7 classes\n",
    "predictions = Dense(7, activation='softmax')(x)\n",
    "\n",
    "# this is the model we will train\n",
    "model = Model(input=base_model.input, output=predictions)\n",
    "\n",
    "# first: train only the top layers (which were randomly initialized)\n",
    "# i.e. freeze all convolutional InceptionV3 layers\n",
    "for layer in base_model.layers:\n",
    "    layer.trainable = False\n",
    "\n",
    "# compile the model (should be done *after* setting layers to non-trainable)\n",
    "model.compile(optimizer='rmsprop', loss='categorical_crossentropy')\n",
    "\n",
    "# train the model on the new data for a few epochs\n",
    "model.fit(x=p_train_X, y=train_y, epochs=20, validation_data=(p_validate_X, validate_y))\n",
    "\n",
    "# at this point, the top layers are well trained and we can start fine-tuning\n",
    "# convolutional layers from inception V3. We will freeze the bottom N layers\n",
    "# and train the remaining top layers.\n",
    "\n",
    "# let's visualize layer names and layer indices to see how many layers\n",
    "# we should freeze:\n",
    "for i, layer in enumerate(base_model.layers):\n",
    "   print(i, layer.name)\n",
    "\n",
    "# we chose to train the top 2 inception blocks, i.e. we will freeze\n",
    "# the first 172 layers and unfreeze the rest:\n",
    "for layer in model.layers[:172]:\n",
    "   layer.trainable = False\n",
    "for layer in model.layers[172:]:\n",
    "   layer.trainable = True\n",
    "\n",
    "# we need to recompile the model for these modifications to take effect\n",
    "# we use SGD with a low learning rate\n",
    "from keras.optimizers import SGD\n",
    "model.compile(optimizer=SGD(lr=0.001, momentum=0.9), loss='categorical_crossentropy')\n",
    "\n",
    "# we train our model again (this time fine-tuning the top 2 inception blocks\n",
    "# alongside the top Dense layers\n",
    "model.fit(x=p_train_X, y=train_y, epochs=5, validation_data=(p_validate_X, validate_y))"
   ]
  },
  {
   "cell_type": "code",
   "execution_count": 70,
   "metadata": {},
   "outputs": [
    {
     "name": "stdout",
     "output_type": "stream",
     "text": [
      "Saved model to disk\n"
     ]
    }
   ],
   "source": [
    "# serialize model to JSON\n",
    "model_json = model.to_json()\n",
    "with open(\"modelV3_longest.json\", \"w\") as json_file:\n",
    "    json_file.write(model_json)\n",
    "# serialize weights to HDF5\n",
    "model.save_weights(\"modelV3_longest.h5\")\n",
    "print(\"Saved model to disk\")"
   ]
  },
  {
   "cell_type": "code",
   "execution_count": 1,
   "metadata": {},
   "outputs": [
    {
     "name": "stderr",
     "output_type": "stream",
     "text": [
      "Using TensorFlow backend.\n",
      "/home/josh/anaconda3/lib/python3.6/importlib/_bootstrap.py:205: RuntimeWarning: compiletime version 3.5 of module 'tensorflow.python.framework.fast_tensor_util' does not match runtime version 3.6\n",
      "  return f(*args, **kwds)\n"
     ]
    },
    {
     "name": "stdout",
     "output_type": "stream",
     "text": [
      "Loaded model from disk\n"
     ]
    }
   ],
   "source": [
    "from keras.models import model_from_json\n",
    "\n",
    "# Run if loading the model rather than building\n",
    "# load json and create model\n",
    "json_file = open('modelV3_longer.json', 'r')\n",
    "loaded_model_json = json_file.read()\n",
    "json_file.close()\n",
    "model = model_from_json(loaded_model_json)\n",
    "# load weights into new model\n",
    "model.load_weights(\"modelV3_longer.h5\")\n",
    "print(\"Loaded model from disk\")"
   ]
  },
  {
   "cell_type": "code",
   "execution_count": 12,
   "metadata": {},
   "outputs": [],
   "source": [
    "test_preds = model.predict(p_test_X)"
   ]
  },
  {
   "cell_type": "code",
   "execution_count": 13,
   "metadata": {},
   "outputs": [],
   "source": [
    "test_classes = [np.argmax(x) for x in test_preds]\n",
    "test_y_real = [np.argmax(x) for x in test_y]"
   ]
  },
  {
   "cell_type": "code",
   "execution_count": 14,
   "metadata": {},
   "outputs": [
    {
     "name": "stdout",
     "output_type": "stream",
     "text": [
      "0.600167177487\n"
     ]
    }
   ],
   "source": [
    "from sklearn.metrics import accuracy_score\n",
    "\n",
    "print(accuracy_score(test_y_real, test_classes))"
   ]
  },
  {
   "cell_type": "code",
   "execution_count": 15,
   "metadata": {},
   "outputs": [
    {
     "name": "stdout",
     "output_type": "stream",
     "text": [
      "[[184   5 103  26  72   7  94]\n",
      " [  9  28   6   5   4   1   2]\n",
      " [ 43   3 272  23  85  32  70]\n",
      " [ 21   0  23 708  37  23  67]\n",
      " [ 38   2 110  35 259   3 147]\n",
      " [ 13   0  57  29  12 283  22]\n",
      " [ 20   2  54  35  87   8 420]]\n"
     ]
    }
   ],
   "source": [
    "from sklearn.metrics import confusion_matrix\n",
    "\n",
    "print(confusion_matrix(test_y_real, test_classes))"
   ]
  },
  {
   "cell_type": "code",
   "execution_count": 16,
   "metadata": {},
   "outputs": [
    {
     "name": "stdout",
     "output_type": "stream",
     "text": [
      "0.599052660908\n"
     ]
    }
   ],
   "source": [
    "validate_preds = model.predict(p_validate_X)\n",
    "validate_classes = [np.argmax(x) for x in validate_preds]\n",
    "validate_y_real = [np.argmax(x) for x in validate_y]\n",
    "\n",
    "from sklearn.metrics import accuracy_score\n",
    "\n",
    "print(accuracy_score(validate_y_real, validate_classes))"
   ]
  },
  {
   "cell_type": "code",
   "execution_count": 76,
   "metadata": {},
   "outputs": [
    {
     "data": {
      "text/plain": [
       "numpy.ndarray"
      ]
     },
     "execution_count": 76,
     "metadata": {},
     "output_type": "execute_result"
    }
   ],
   "source": [
    "import pandas as pd\n",
    "\n",
    "type(test_preds)"
   ]
  },
  {
   "cell_type": "code",
   "execution_count": 17,
   "metadata": {},
   "outputs": [],
   "source": [
    "test_preds_df = pd.DataFrame(test_preds)\n",
    "test_preds_df.to_csv(\"test_preds_longer.csv\")\n",
    "validate_preds_df = pd.DataFrame(validate_preds)\n",
    "validate_preds_df.to_csv(\"validate_preds_longer.csv\")\n",
    "test_actual_preds = pd.DataFrame(test_y)\n",
    "validate_actual_preds = pd.DataFrame(validate_y)\n",
    "test_actual_preds.to_csv(\"test_actual_y.csv\")\n",
    "validate_actual_preds.to_csv(\"validate_actual_y.csv\")"
   ]
  },
  {
   "cell_type": "code",
   "execution_count": 19,
   "metadata": {},
   "outputs": [
    {
     "name": "stdout",
     "output_type": "stream",
     "text": [
      "[  2.17508338e-02   1.75246430e-04   2.21623015e-02   3.02639906e-04\n",
      "   9.34205770e-01   1.93930008e-02   2.01014848e-03]\n",
      "[ 0.  0.  0.  0.  0.  1.  0.]\n"
     ]
    }
   ],
   "source": [
    "print(test_preds[1])\n",
    "print(test_y[1])"
   ]
  },
  {
   "cell_type": "code",
   "execution_count": 30,
   "metadata": {},
   "outputs": [
    {
     "name": "stdout",
     "output_type": "stream",
     "text": [
      "(299, 299, 3)\n"
     ]
    }
   ],
   "source": [
    "print(p_test_X[0].shape)"
   ]
  }
 ],
 "metadata": {
  "kernelspec": {
   "display_name": "Python [conda root]",
   "language": "python",
   "name": "conda-root-py"
  },
  "language_info": {
   "codemirror_mode": {
    "name": "ipython",
    "version": 3
   },
   "file_extension": ".py",
   "mimetype": "text/x-python",
   "name": "python",
   "nbconvert_exporter": "python",
   "pygments_lexer": "ipython3",
   "version": "3.6.2"
  }
 },
 "nbformat": 4,
 "nbformat_minor": 2
}
